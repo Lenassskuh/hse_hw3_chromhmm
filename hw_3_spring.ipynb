{
  "cells": [
    {
      "cell_type": "markdown",
      "metadata": {
        "id": "vRciyzvPEDLD"
      },
      "source": [
        "# Устанавливаем java и ChromHmm"
      ]
    },
    {
      "cell_type": "code",
      "execution_count": null,
      "metadata": {
        "colab": {
          "base_uri": "https://localhost:8080/"
        },
        "id": "1O3GJ3Gys7Tm",
        "outputId": "d8e94009-9d1f-46d1-eb61-ec4e04f37e7d"
      },
      "outputs": [
        {
          "output_type": "stream",
          "name": "stdout",
          "text": [
            "  % Total    % Received % Xferd  Average Speed   Time    Time     Time  Current\n",
            "                                 Dload  Upload   Total   Spent    Left  Speed\n",
            "\r  0     0    0     0    0     0      0      0 --:--:-- --:--:-- --:--:--     0\r100   155  100   155    0     0    856      0 --:--:-- --:--:-- --:--:--   856\n",
            "fix-colab-gpu.sh: line 5: nvcc: command not found\n"
          ]
        }
      ],
      "source": [
        "!curl -O https://raw.githubusercontent.com/deepjavalibrary/d2l-java/master/tools/fix-colab-gpu.sh && bash fix-colab-gpu.sh"
      ]
    },
    {
      "cell_type": "code",
      "execution_count": null,
      "metadata": {
        "colab": {
          "base_uri": "https://localhost:8080/"
        },
        "id": "NxS1Mv5WquOV",
        "outputId": "9cdab745-885e-4c64-f308-7ad824185a99"
      },
      "outputs": [
        {
          "output_type": "stream",
          "name": "stdout",
          "text": [
            "  % Total    % Received % Xferd  Average Speed   Time    Time     Time  Current\n",
            "                                 Dload  Upload   Total   Spent    Left  Speed\n",
            "\r  0     0    0     0    0     0      0      0 --:--:-- --:--:-- --:--:--     0\r100   520  100   520    0     0   3513      0 --:--:-- --:--:-- --:--:--  3513\n",
            "Update environment...\n",
            "Install Java...\n",
            "Install Jupyter java kernel...\n"
          ]
        }
      ],
      "source": [
        "!curl -O https://raw.githubusercontent.com/deepjavalibrary/d2l-java/master/tools/colab_build.sh && bash colab_build.sh"
      ]
    },
    {
      "cell_type": "code",
      "execution_count": null,
      "metadata": {
        "colab": {
          "base_uri": "https://localhost:8080/"
        },
        "id": "_NrPS924rQFX",
        "outputId": "34c020ca-ae49-4889-b8c7-67cfb6190dae"
      },
      "outputs": [
        {
          "output_type": "stream",
          "name": "stdout",
          "text": [
            "jdk.jshell@11.0.18\n"
          ]
        }
      ],
      "source": [
        "!java --list-modules | grep \"jdk.jshell\"\n"
      ]
    },
    {
      "cell_type": "code",
      "execution_count": null,
      "metadata": {
        "colab": {
          "base_uri": "https://localhost:8080/"
        },
        "id": "zCdYYvCJrpRt",
        "outputId": "7bb5fe5c-9b80-4c7b-8678-eb2790a9c4e3"
      },
      "outputs": [
        {
          "output_type": "stream",
          "name": "stdout",
          "text": [
            "--2023-04-04 19:28:31--  http://compbio.mit.edu/ChromHMM/ChromHMM.zip\n",
            "Resolving compbio.mit.edu (compbio.mit.edu)... 128.30.2.44\n",
            "Connecting to compbio.mit.edu (compbio.mit.edu)|128.30.2.44|:80... connected.\n",
            "HTTP request sent, awaiting response... 200 OK\n",
            "Length: 48940646 (47M) [application/zip]\n",
            "Saving to: ‘ChromHMM.zip’\n",
            "\n",
            "ChromHMM.zip        100%[===================>]  46.67M  4.60MB/s    in 12s     \n",
            "\n",
            "2023-04-04 19:28:44 (3.89 MB/s) - ‘ChromHMM.zip’ saved [48940646/48940646]\n",
            "\n"
          ]
        }
      ],
      "source": [
        "! wget http://compbio.mit.edu/ChromHMM/ChromHMM.zip"
      ]
    },
    {
      "cell_type": "code",
      "execution_count": null,
      "metadata": {
        "colab": {
          "base_uri": "https://localhost:8080/"
        },
        "id": "gF4uI2bvvEN2",
        "outputId": "721187e6-9795-478c-9208-ba13c8f7fefa"
      },
      "outputs": [
        {
          "output_type": "stream",
          "name": "stdout",
          "text": [
            "Archive:  /content/ChromHMM.zip\n",
            "   creating: ChromHMM/ANCHORFILES/\n",
            "   creating: ChromHMM/ANCHORFILES/ce10/\n",
            "  inflating: ChromHMM/ANCHORFILES/ce10/RefSeqTES.ce10.txt.gz  \n",
            "  inflating: ChromHMM/ANCHORFILES/ce10/RefSeqTSS.ce10.txt.gz  \n",
            "   creating: ChromHMM/ANCHORFILES/ce11/\n",
            "  inflating: ChromHMM/ANCHORFILES/ce11/RefSeqTES.ce11.txt.gz  \n",
            "  inflating: ChromHMM/ANCHORFILES/ce11/RefSeqTSS.ce11.txt.gz  \n",
            "   creating: ChromHMM/ANCHORFILES/ce6/\n",
            "  inflating: ChromHMM/ANCHORFILES/ce6/RefSeqTES.ce6.txt.gz  \n",
            "  inflating: ChromHMM/ANCHORFILES/ce6/RefSeqTSS.ce6.txt.gz  \n",
            "   creating: ChromHMM/ANCHORFILES/danRer10/\n",
            "  inflating: ChromHMM/ANCHORFILES/danRer10/RefSeqTES.danRer10.txt.gz  \n",
            "  inflating: ChromHMM/ANCHORFILES/danRer10/RefSeqTSS.danRer10.txt.gz  \n",
            "   creating: ChromHMM/ANCHORFILES/danRer11/\n",
            "  inflating: ChromHMM/ANCHORFILES/danRer11/RefSeqTES.danRer11.txt.gz  \n",
            "  inflating: ChromHMM/ANCHORFILES/danRer11/RefSeqTSS.danRer11.txt.gz  \n",
            "   creating: ChromHMM/ANCHORFILES/danRer7/\n",
            "  inflating: ChromHMM/ANCHORFILES/danRer7/RefSeqTES.danRer7.txt.gz  \n",
            "  inflating: ChromHMM/ANCHORFILES/danRer7/RefSeqTSS.danRer7.txt.gz  \n",
            "   creating: ChromHMM/ANCHORFILES/dm3/\n",
            "  inflating: ChromHMM/ANCHORFILES/dm3/RefSeqTES.dm3.txt.gz  \n",
            "  inflating: ChromHMM/ANCHORFILES/dm3/RefSeqTSS.dm3.txt.gz  \n",
            "   creating: ChromHMM/ANCHORFILES/dm6/\n",
            "  inflating: ChromHMM/ANCHORFILES/dm6/RefSeqTES.dm6.txt.gz  \n",
            "  inflating: ChromHMM/ANCHORFILES/dm6/RefSeqTSS.dm6.txt.gz  \n",
            "   creating: ChromHMM/ANCHORFILES/hg18/\n",
            "  inflating: ChromHMM/ANCHORFILES/hg18/RefSeqTES.hg18.txt.gz  \n",
            "  inflating: ChromHMM/ANCHORFILES/hg18/RefSeqTSS.hg18.txt.gz  \n",
            "   creating: ChromHMM/ANCHORFILES/hg19/\n",
            "  inflating: ChromHMM/ANCHORFILES/hg19/RefSeqTES.hg19.txt.gz  \n",
            "  inflating: ChromHMM/ANCHORFILES/hg19/RefSeqTSS.hg19.txt.gz  \n",
            "   creating: ChromHMM/ANCHORFILES/hg38/\n",
            "  inflating: ChromHMM/ANCHORFILES/hg38/RefSeqTES.hg38.txt.gz  \n",
            "  inflating: ChromHMM/ANCHORFILES/hg38/RefSeqTSS.hg38.txt.gz  \n",
            "   creating: ChromHMM/ANCHORFILES/hs1/\n",
            "  inflating: ChromHMM/ANCHORFILES/hs1/RefSeqTES.hs1.txt.gz  \n",
            "  inflating: ChromHMM/ANCHORFILES/hs1/RefSeqTSS.hs1.txt.gz  \n",
            "   creating: ChromHMM/ANCHORFILES/mm10/\n",
            "  inflating: ChromHMM/ANCHORFILES/mm10/RefSeqTES.mm10.txt.gz  \n",
            "  inflating: ChromHMM/ANCHORFILES/mm10/RefSeqTSS.mm10.txt.gz  \n",
            "   creating: ChromHMM/ANCHORFILES/mm39/\n",
            "  inflating: ChromHMM/ANCHORFILES/mm39/RefSeqTES.mm39.txt.gz  \n",
            "  inflating: ChromHMM/ANCHORFILES/mm39/RefSeqTSS.mm39.txt.gz  \n",
            "   creating: ChromHMM/ANCHORFILES/mm9/\n",
            "  inflating: ChromHMM/ANCHORFILES/mm9/RefSeqTES.mm9.txt.gz  \n",
            "  inflating: ChromHMM/ANCHORFILES/mm9/RefSeqTSS.mm9.txt.gz  \n",
            "   creating: ChromHMM/ANCHORFILES/rn5/\n",
            "  inflating: ChromHMM/ANCHORFILES/rn5/RefSeqTES.rn5.txt.gz  \n",
            "  inflating: ChromHMM/ANCHORFILES/rn5/RefSeqTSS.rn5.txt.gz  \n",
            "   creating: ChromHMM/ANCHORFILES/rn6/\n",
            "  inflating: ChromHMM/ANCHORFILES/rn6/RefSeqTES.rn6.txt.gz  \n",
            "  inflating: ChromHMM/ANCHORFILES/rn6/RefSeqTSS.rn6.txt.gz  \n",
            "  inflating: ChromHMM/ChromHMM.jar   \n",
            "  inflating: ChromHMM/ChromHMM_manual.pdf  \n",
            "   creating: ChromHMM/CHROMSIZES/\n",
            "  inflating: ChromHMM/CHROMSIZES/ce10.txt  \n",
            "  inflating: ChromHMM/CHROMSIZES/ce11.txt  \n",
            "  inflating: ChromHMM/CHROMSIZES/ce6.txt  \n",
            "  inflating: ChromHMM/CHROMSIZES/danRer10.txt  \n",
            "  inflating: ChromHMM/CHROMSIZES/danRer11.txt  \n",
            "  inflating: ChromHMM/CHROMSIZES/danRer7.txt  \n",
            "  inflating: ChromHMM/CHROMSIZES/dm3.txt  \n",
            "  inflating: ChromHMM/CHROMSIZES/dm6.txt  \n",
            "  inflating: ChromHMM/CHROMSIZES/hg18.txt  \n",
            "  inflating: ChromHMM/CHROMSIZES/hg19.txt  \n",
            "  inflating: ChromHMM/CHROMSIZES/hg38.txt  \n",
            "  inflating: ChromHMM/CHROMSIZES/hs1.txt  \n",
            "  inflating: ChromHMM/CHROMSIZES/mm10.txt  \n",
            "  inflating: ChromHMM/CHROMSIZES/mm39.txt  \n",
            "  inflating: ChromHMM/CHROMSIZES/mm9.txt  \n",
            "  inflating: ChromHMM/CHROMSIZES/rn5.txt  \n",
            "  inflating: ChromHMM/CHROMSIZES/rn6.txt  \n",
            "   creating: ChromHMM/COORDS/\n",
            "   creating: ChromHMM/COORDS/ce10/\n",
            "  inflating: ChromHMM/COORDS/ce10/RefSeqExon.ce10.bed.gz  \n",
            "  inflating: ChromHMM/COORDS/ce10/RefSeqGene.ce10.bed.gz  \n",
            "  inflating: ChromHMM/COORDS/ce10/RefSeqTES.ce10.bed.gz  \n",
            "  inflating: ChromHMM/COORDS/ce10/RefSeqTSS.ce10.bed.gz  \n",
            "  inflating: ChromHMM/COORDS/ce10/RefSeqTSS2kb.ce10.bed.gz  \n",
            "   creating: ChromHMM/COORDS/ce11/\n",
            "  inflating: ChromHMM/COORDS/ce11/RefSeqExon.ce11.bed.gz  \n",
            "  inflating: ChromHMM/COORDS/ce11/RefSeqGene.ce11.bed.gz  \n",
            "  inflating: ChromHMM/COORDS/ce11/RefSeqTES.ce11.bed.gz  \n",
            "  inflating: ChromHMM/COORDS/ce11/RefSeqTSS.ce11.bed.gz  \n",
            "  inflating: ChromHMM/COORDS/ce11/RefSeqTSS2kb.ce11.bed.gz  \n",
            "   creating: ChromHMM/COORDS/ce6/\n",
            "  inflating: ChromHMM/COORDS/ce6/RefSeqExon.ce6.bed.gz  \n",
            "  inflating: ChromHMM/COORDS/ce6/RefSeqGene.ce6.bed.gz  \n",
            "  inflating: ChromHMM/COORDS/ce6/RefSeqTES.ce6.bed.gz  \n",
            "  inflating: ChromHMM/COORDS/ce6/RefSeqTSS.ce6.bed.gz  \n",
            "  inflating: ChromHMM/COORDS/ce6/RefSeqTSS2kb.ce6.bed.gz  \n",
            "   creating: ChromHMM/COORDS/danRer10/\n",
            "  inflating: ChromHMM/COORDS/danRer10/RefSeqExon.danRer10.bed.gz  \n",
            "  inflating: ChromHMM/COORDS/danRer10/RefSeqGene.danRer10.bed.gz  \n",
            "  inflating: ChromHMM/COORDS/danRer10/RefSeqTES.danRer10.bed.gz  \n",
            "  inflating: ChromHMM/COORDS/danRer10/RefSeqTSS.danRer10.bed.gz  \n",
            "  inflating: ChromHMM/COORDS/danRer10/RefSeqTSS2kb.danRer10.bed.gz  \n",
            "   creating: ChromHMM/COORDS/danRer11/\n",
            "  inflating: ChromHMM/COORDS/danRer11/RefSeqExon.danRer11.bed.gz  \n",
            "  inflating: ChromHMM/COORDS/danRer11/RefSeqGene.danRer11.bed.gz  \n",
            "  inflating: ChromHMM/COORDS/danRer11/RefSeqTES.danRer11.bed.gz  \n",
            "  inflating: ChromHMM/COORDS/danRer11/RefSeqTSS.danRer11.bed.gz  \n",
            "  inflating: ChromHMM/COORDS/danRer11/RefSeqTSS2kb.danRer11.bed.gz  \n",
            "   creating: ChromHMM/COORDS/danRer7/\n",
            "  inflating: ChromHMM/COORDS/danRer7/RefSeqExon.danRer7.bed.gz  \n",
            "  inflating: ChromHMM/COORDS/danRer7/RefSeqGene.danRer7.bed.gz  \n",
            "  inflating: ChromHMM/COORDS/danRer7/RefSeqTES.danRer7.bed.gz  \n",
            "  inflating: ChromHMM/COORDS/danRer7/RefSeqTSS.danRer7.bed.gz  \n",
            "  inflating: ChromHMM/COORDS/danRer7/RefSeqTSS2kb.danRer7.bed.gz  \n",
            "   creating: ChromHMM/COORDS/dm3/\n",
            "  inflating: ChromHMM/COORDS/dm3/RefSeqExon.dm3.bed.gz  \n",
            "  inflating: ChromHMM/COORDS/dm3/RefSeqGene.dm3.bed.gz  \n",
            "  inflating: ChromHMM/COORDS/dm3/RefSeqTES.dm3.bed.gz  \n",
            "  inflating: ChromHMM/COORDS/dm3/RefSeqTSS.dm3.bed.gz  \n",
            "  inflating: ChromHMM/COORDS/dm3/RefSeqTSS2kb.dm3.bed.gz  \n",
            "   creating: ChromHMM/COORDS/dm6/\n",
            "  inflating: ChromHMM/COORDS/dm6/RefSeqExon.dm6.bed.gz  \n",
            "  inflating: ChromHMM/COORDS/dm6/RefSeqGene.dm6.bed.gz  \n",
            "  inflating: ChromHMM/COORDS/dm6/RefSeqTES.dm6.bed.gz  \n",
            "  inflating: ChromHMM/COORDS/dm6/RefSeqTSS.dm6.bed.gz  \n",
            "  inflating: ChromHMM/COORDS/dm6/RefSeqTSS2kb.dm6.bed.gz  \n",
            "   creating: ChromHMM/COORDS/hg18/\n",
            "  inflating: ChromHMM/COORDS/hg18/CpGIsland.hg18.bed.gz  \n",
            " extracting: ChromHMM/COORDS/hg18/laminB1lads.hg18.bed.gz  \n",
            "  inflating: ChromHMM/COORDS/hg18/RefSeqExon.hg18.bed.gz  \n",
            "  inflating: ChromHMM/COORDS/hg18/RefSeqGene.hg18.bed.gz  \n",
            "  inflating: ChromHMM/COORDS/hg18/RefSeqTES.hg18.bed.gz  \n",
            "  inflating: ChromHMM/COORDS/hg18/RefSeqTSS.hg18.bed.gz  \n",
            "  inflating: ChromHMM/COORDS/hg18/RefSeqTSS2kb.hg18.bed.gz  \n",
            "   creating: ChromHMM/COORDS/hg19/\n",
            "  inflating: ChromHMM/COORDS/hg19/CpGIsland.hg19.bed.gz  \n",
            " extracting: ChromHMM/COORDS/hg19/laminB1lads.hg19.bed.gz  \n",
            "  inflating: ChromHMM/COORDS/hg19/RefSeqExon.hg19.bed.gz  \n",
            "  inflating: ChromHMM/COORDS/hg19/RefSeqGene.hg19.bed.gz  \n",
            "  inflating: ChromHMM/COORDS/hg19/RefSeqTES.hg19.bed.gz  \n",
            "  inflating: ChromHMM/COORDS/hg19/RefSeqTSS.hg19.bed.gz  \n",
            "  inflating: ChromHMM/COORDS/hg19/RefSeqTSS2kb.hg19.bed.gz  \n",
            "   creating: ChromHMM/COORDS/hg38/\n",
            "  inflating: ChromHMM/COORDS/hg38/CpGIsland.hg38.bed.gz  \n",
            "  inflating: ChromHMM/COORDS/hg38/RefSeqExon.hg38.bed.gz  \n",
            "  inflating: ChromHMM/COORDS/hg38/RefSeqGene.hg38.bed.gz  \n",
            "  inflating: ChromHMM/COORDS/hg38/RefSeqTES.hg38.bed.gz  \n",
            "  inflating: ChromHMM/COORDS/hg38/RefSeqTSS.hg38.bed.gz  \n",
            "  inflating: ChromHMM/COORDS/hg38/RefSeqTSS2kb.hg38.bed.gz  \n",
            "   creating: ChromHMM/COORDS/hs1/\n",
            "  inflating: ChromHMM/COORDS/hs1/CpGIsland.hs1.bed.gz  \n",
            "  inflating: ChromHMM/COORDS/hs1/RefSeqExon.hs1.bed.gz  \n",
            "  inflating: ChromHMM/COORDS/hs1/RefSeqGene.hs1.bed.gz  \n",
            "  inflating: ChromHMM/COORDS/hs1/RefSeqTES.hs1.bed.gz  \n",
            "  inflating: ChromHMM/COORDS/hs1/RefSeqTSS.hs1.bed.gz  \n",
            "  inflating: ChromHMM/COORDS/hs1/RefSeqTSS2kb.hs1.bed.gz  \n",
            "   creating: ChromHMM/COORDS/mm10/\n",
            "  inflating: ChromHMM/COORDS/mm10/CpGIsland.mm10.bed.gz  \n",
            "  inflating: ChromHMM/COORDS/mm10/RefSeqExon.mm10.bed.gz  \n",
            "  inflating: ChromHMM/COORDS/mm10/RefSeqGene.mm10.bed.gz  \n",
            "  inflating: ChromHMM/COORDS/mm10/RefSeqTES.mm10.bed.gz  \n",
            "  inflating: ChromHMM/COORDS/mm10/RefSeqTSS.mm10.bed.gz  \n",
            "  inflating: ChromHMM/COORDS/mm10/RefSeqTSS2kb.mm10.bed.gz  \n",
            "   creating: ChromHMM/COORDS/mm39/\n",
            "  inflating: ChromHMM/COORDS/mm39/CpGIsland.mm39.bed.gz  \n",
            "  inflating: ChromHMM/COORDS/mm39/RefSeqExon.mm39.bed.gz  \n",
            "  inflating: ChromHMM/COORDS/mm39/RefSeqGene.mm39.bed.gz  \n",
            "  inflating: ChromHMM/COORDS/mm39/RefSeqTES.mm39.bed.gz  \n",
            "  inflating: ChromHMM/COORDS/mm39/RefSeqTSS.mm39.bed.gz  \n",
            "  inflating: ChromHMM/COORDS/mm39/RefSeqTSS2kb.mm39.bed.gz  \n",
            "   creating: ChromHMM/COORDS/mm9/\n",
            "  inflating: ChromHMM/COORDS/mm9/CpGIsland.mm9.bed.gz  \n",
            "  inflating: ChromHMM/COORDS/mm9/RefSeqExon.mm9.bed.gz  \n",
            "  inflating: ChromHMM/COORDS/mm9/RefSeqGene.mm9.bed.gz  \n",
            "  inflating: ChromHMM/COORDS/mm9/RefSeqTES.mm9.bed.gz  \n",
            "  inflating: ChromHMM/COORDS/mm9/RefSeqTSS.mm9.bed.gz  \n",
            "  inflating: ChromHMM/COORDS/mm9/RefSeqTSS2kb.mm9.bed.gz  \n",
            "   creating: ChromHMM/COORDS/rn5/\n",
            "  inflating: ChromHMM/COORDS/rn5/CpGIsland.rn5.bed.gz  \n",
            "  inflating: ChromHMM/COORDS/rn5/RefSeqExon.rn5.bed.gz  \n",
            "  inflating: ChromHMM/COORDS/rn5/RefSeqGene.rn5.bed.gz  \n",
            "  inflating: ChromHMM/COORDS/rn5/RefSeqTES.rn5.bed.gz  \n",
            "  inflating: ChromHMM/COORDS/rn5/RefSeqTSS.rn5.bed.gz  \n",
            "  inflating: ChromHMM/COORDS/rn5/RefSeqTSS2kb.rn5.bed.gz  \n",
            "   creating: ChromHMM/COORDS/rn6/\n",
            "  inflating: ChromHMM/COORDS/rn6/CpGIsland.rn6.bed.gz  \n",
            "  inflating: ChromHMM/COORDS/rn6/RefSeqExon.rn6.bed.gz  \n",
            "  inflating: ChromHMM/COORDS/rn6/RefSeqGene.rn6.bed.gz  \n",
            "  inflating: ChromHMM/COORDS/rn6/RefSeqTES.rn6.bed.gz  \n",
            "  inflating: ChromHMM/COORDS/rn6/RefSeqTSS.rn6.bed.gz  \n",
            "  inflating: ChromHMM/COORDS/rn6/RefSeqTSS2kb.rn6.bed.gz  \n",
            "   creating: ChromHMM/SAMPLEDATA_HG18/\n",
            "  inflating: ChromHMM/SAMPLEDATA_HG18/GM12878_chr11_binary.txt.gz  \n",
            "  inflating: ChromHMM/SAMPLEDATA_HG18/K562_chr11_binary.txt.gz  \n",
            "   creating: ChromHMM/SRC/\n",
            "   creating: ChromHMM/SRC/edu/\n",
            "   creating: ChromHMM/SRC/edu/mit/\n",
            "   creating: ChromHMM/SRC/edu/mit/compbio/\n",
            "   creating: ChromHMM/SRC/edu/mit/compbio/ChromHMM/\n",
            "  inflating: ChromHMM/SRC/edu/mit/compbio/ChromHMM/BrowserOutput.java  \n",
            "  inflating: ChromHMM/SRC/edu/mit/compbio/ChromHMM/ChromHMM.java  \n",
            "  inflating: ChromHMM/SRC/edu/mit/compbio/ChromHMM/ConvertGeneTable.java  \n",
            "  inflating: ChromHMM/SRC/edu/mit/compbio/ChromHMM/NestedEliminateInitialize.java  \n",
            "  inflating: ChromHMM/SRC/edu/mit/compbio/ChromHMM/Preprocessing.java  \n",
            "  inflating: ChromHMM/SRC/edu/mit/compbio/ChromHMM/StateAnalysis.java  \n",
            "  inflating: ChromHMM/SRC/edu/mit/compbio/ChromHMM/Util.java  \n",
            "   creating: ChromHMM/SRC/org/\n",
            "   creating: ChromHMM/SRC/org/tc33/\n",
            "   creating: ChromHMM/SRC/org/tc33/jheatchart/\n",
            "  inflating: ChromHMM/SRC/org/tc33/jheatchart/HeatChart.java  \n",
            "  inflating: ChromHMM/versionlog.txt  \n"
          ]
        }
      ],
      "source": [
        "!unzip /content/ChromHMM.zip"
      ]
    },
    {
      "cell_type": "markdown",
      "metadata": {
        "id": "k80uGrS5quq1"
      },
      "source": [
        "## Скачиваем файлы"
      ]
    },
    {
      "cell_type": "markdown",
      "metadata": {
        "id": "zbZOefNL7wej"
      },
      "source": [
        "Пример"
      ]
    },
    {
      "cell_type": "code",
      "execution_count": null,
      "metadata": {
        "colab": {
          "base_uri": "https://localhost:8080/"
        },
        "id": "PSWbbv8wcFUY",
        "outputId": "53938d01-8387-441e-caa8-0974eac69869"
      },
      "outputs": [
        {
          "output_type": "stream",
          "name": "stdout",
          "text": [
            "--2023-04-04 19:28:58--  http://hgdownload.cse.ucsc.edu/goldenPath/hg19/encodeDCC/wgEncodeBroadHistone/wgEncodeBroadHistoneH1hescH3k09me3StdAlnRep1.bam\n",
            "Resolving hgdownload.cse.ucsc.edu (hgdownload.cse.ucsc.edu)... 128.114.119.163\n",
            "Connecting to hgdownload.cse.ucsc.edu (hgdownload.cse.ucsc.edu)|128.114.119.163|:80... connected.\n",
            "HTTP request sent, awaiting response... 200 OK\n",
            "Length: 1003133982 (957M) [application/octet-stream]\n",
            "Saving to: ‘H3k09me3.bam’\n",
            "\n",
            "H3k09me3.bam        100%[===================>] 956.66M  39.5MB/s    in 26s     \n",
            "\n",
            "2023-04-04 19:29:24 (37.5 MB/s) - ‘H3k09me3.bam’ saved [1003133982/1003133982]\n",
            "\n",
            "--2023-04-04 19:29:24--  http://hgdownload.cse.ucsc.edu/goldenPath/hg19/encodeDCC/wgEncodeBroadHistone/wgEncodeBroadHistoneH1hescH3k4me1StdAlnRep1.bam\n",
            "Resolving hgdownload.cse.ucsc.edu (hgdownload.cse.ucsc.edu)... 128.114.119.163\n",
            "Connecting to hgdownload.cse.ucsc.edu (hgdownload.cse.ucsc.edu)|128.114.119.163|:80... connected.\n",
            "HTTP request sent, awaiting response... 200 OK\n",
            "Length: 416558017 (397M) [application/octet-stream]\n",
            "Saving to: ‘H3k4me1.bam’\n",
            "\n",
            "H3k4me1.bam         100%[===================>] 397.26M  39.6MB/s    in 11s     \n",
            "\n",
            "2023-04-04 19:29:35 (37.0 MB/s) - ‘H3k4me1.bam’ saved [416558017/416558017]\n",
            "\n",
            "--2023-04-04 19:29:35--  http://hgdownload.cse.ucsc.edu/goldenPath/hg19/encodeDCC/wgEncodeBroadHistone/wgEncodeBroadHistoneH1hescH3k4me2StdAlnRep1.bam\n",
            "Resolving hgdownload.cse.ucsc.edu (hgdownload.cse.ucsc.edu)... 128.114.119.163\n",
            "Connecting to hgdownload.cse.ucsc.edu (hgdownload.cse.ucsc.edu)|128.114.119.163|:80... connected.\n",
            "HTTP request sent, awaiting response... 200 OK\n",
            "Length: 630943801 (602M) [application/octet-stream]\n",
            "Saving to: ‘H3k4me2.bam’\n",
            "\n",
            "H3k4me2.bam         100%[===================>] 601.71M  36.9MB/s    in 16s     \n",
            "\n",
            "2023-04-04 19:29:52 (37.0 MB/s) - ‘H3k4me2.bam’ saved [630943801/630943801]\n",
            "\n",
            "--2023-04-04 19:29:52--  http://hgdownload.cse.ucsc.edu/goldenPath/hg19/encodeDCC/wgEncodeBroadHistone/wgEncodeBroadHistoneH1hescH3k4me3StdAlnRep1.bam\n",
            "Resolving hgdownload.cse.ucsc.edu (hgdownload.cse.ucsc.edu)... 128.114.119.163\n",
            "Connecting to hgdownload.cse.ucsc.edu (hgdownload.cse.ucsc.edu)|128.114.119.163|:80... connected.\n",
            "HTTP request sent, awaiting response... 200 OK\n",
            "Length: 265866723 (254M) [application/octet-stream]\n",
            "Saving to: ‘H3k4me3.bam’\n",
            "\n",
            "H3k4me3.bam         100%[===================>] 253.55M  37.5MB/s    in 7.6s    \n",
            "\n",
            "2023-04-04 19:29:59 (33.3 MB/s) - ‘H3k4me3.bam’ saved [265866723/265866723]\n",
            "\n",
            "--2023-04-04 19:29:59--  http://hgdownload.cse.ucsc.edu/goldenPath/hg19/encodeDCC/wgEncodeBroadHistone/wgEncodeBroadHistoneH1hescH3k9acStdAlnRep1.bam\n",
            "Resolving hgdownload.cse.ucsc.edu (hgdownload.cse.ucsc.edu)... 128.114.119.163\n",
            "Connecting to hgdownload.cse.ucsc.edu (hgdownload.cse.ucsc.edu)|128.114.119.163|:80... connected.\n",
            "HTTP request sent, awaiting response... 200 OK\n",
            "Length: 717006970 (684M) [application/octet-stream]\n",
            "Saving to: ‘H3k9ac.bam’\n",
            "\n",
            "H3k9ac.bam          100%[===================>] 683.79M  37.6MB/s    in 19s     \n",
            "\n",
            "2023-04-04 19:30:19 (35.7 MB/s) - ‘H3k9ac.bam’ saved [717006970/717006970]\n",
            "\n",
            "--2023-04-04 19:30:19--  http://hgdownload.cse.ucsc.edu/goldenPath/hg19/encodeDCC/wgEncodeBroadHistone/wgEncodeBroadHistoneH1hescH3k27acStdAlnRep1.bam\n",
            "Resolving hgdownload.cse.ucsc.edu (hgdownload.cse.ucsc.edu)... 128.114.119.163\n",
            "Connecting to hgdownload.cse.ucsc.edu (hgdownload.cse.ucsc.edu)|128.114.119.163|:80... connected.\n",
            "HTTP request sent, awaiting response... 200 OK\n",
            "Length: 822598769 (784M) [application/octet-stream]\n",
            "Saving to: ‘H3k27ac.bam’\n",
            "\n",
            "H3k27ac.bam         100%[===================>] 784.49M  31.0MB/s    in 23s     \n",
            "\n",
            "2023-04-04 19:30:42 (34.6 MB/s) - ‘H3k27ac.bam’ saved [822598769/822598769]\n",
            "\n",
            "--2023-04-04 19:30:42--  http://hgdownload.cse.ucsc.edu/goldenPath/hg19/encodeDCC/wgEncodeBroadHistone/wgEncodeBroadHistoneH1hescH3k36me3StdAlnRep1.bam\n",
            "Resolving hgdownload.cse.ucsc.edu (hgdownload.cse.ucsc.edu)... 128.114.119.163\n",
            "Connecting to hgdownload.cse.ucsc.edu (hgdownload.cse.ucsc.edu)|128.114.119.163|:80... connected.\n",
            "HTTP request sent, awaiting response... 200 OK\n",
            "Length: 674643448 (643M) [application/octet-stream]\n",
            "Saving to: ‘H3k36me3.bam’\n",
            "\n",
            "H3k36me3.bam        100%[===================>] 643.39M  39.7MB/s    in 17s     \n",
            "\n",
            "2023-04-04 19:30:59 (37.7 MB/s) - ‘H3k36me3.bam’ saved [674643448/674643448]\n",
            "\n",
            "--2023-04-04 19:30:59--  http://hgdownload.cse.ucsc.edu/goldenPath/hg19/encodeDCC/wgEncodeBroadHistone/wgEncodeBroadHistoneH1hescH3k79me2StdAlnRep1.bam\n",
            "Resolving hgdownload.cse.ucsc.edu (hgdownload.cse.ucsc.edu)... 128.114.119.163\n",
            "Connecting to hgdownload.cse.ucsc.edu (hgdownload.cse.ucsc.edu)|128.114.119.163|:80... connected.\n",
            "HTTP request sent, awaiting response... 200 OK\n",
            "Length: 1134650682 (1.1G) [application/octet-stream]\n",
            "Saving to: ‘H3k79me2.bam’\n",
            "\n",
            "H3k79me2.bam        100%[===================>]   1.06G  40.0MB/s    in 28s     \n",
            "\n",
            "2023-04-04 19:31:28 (38.8 MB/s) - ‘H3k79me2.bam’ saved [1134650682/1134650682]\n",
            "\n",
            "--2023-04-04 19:31:28--  http://hgdownload.cse.ucsc.edu/goldenPath/hg19/encodeDCC/wgEncodeBroadHistone/wgEncodeBroadHistoneH1hescH4k20me1StdAlnRep1.bam\n",
            "Resolving hgdownload.cse.ucsc.edu (hgdownload.cse.ucsc.edu)... 128.114.119.163\n",
            "Connecting to hgdownload.cse.ucsc.edu (hgdownload.cse.ucsc.edu)|128.114.119.163|:80... connected.\n",
            "HTTP request sent, awaiting response... 200 OK\n",
            "Length: 788085147 (752M) [application/octet-stream]\n",
            "Saving to: ‘H4k20me1.bam’\n",
            "\n",
            "H4k20me1.bam        100%[===================>] 751.58M  39.9MB/s    in 20s     \n",
            "\n",
            "2023-04-04 19:31:48 (37.6 MB/s) - ‘H4k20me1.bam’ saved [788085147/788085147]\n",
            "\n",
            "--2023-04-04 19:31:48--  http://hgdownload.cse.ucsc.edu/goldenPath/hg19/encodeDCC/wgEncodeBroadHistone/wgEncodeBroadHistoneH1hescH3k27me3StdAlnRep1.bam\n",
            "Resolving hgdownload.cse.ucsc.edu (hgdownload.cse.ucsc.edu)... 128.114.119.163\n",
            "Connecting to hgdownload.cse.ucsc.edu (hgdownload.cse.ucsc.edu)|128.114.119.163|:80... connected.\n",
            "HTTP request sent, awaiting response... 200 OK\n",
            "Length: 249866593 (238M) [application/octet-stream]\n",
            "Saving to: ‘H3k27me3.bam’\n",
            "\n",
            "H3k27me3.bam        100%[===================>] 238.29M  38.0MB/s    in 6.9s    \n",
            "\n",
            "2023-04-04 19:31:55 (34.3 MB/s) - ‘H3k27me3.bam’ saved [249866593/249866593]\n",
            "\n"
          ]
        }
      ],
      "source": [
        "! wget http://hgdownload.cse.ucsc.edu/goldenPath/hg19/encodeDCC/wgEncodeBroadHistone/wgEncodeBroadHistoneH1hescH3k09me3StdAlnRep1.bam -O H3k09me3.bam\n",
        "! wget http://hgdownload.cse.ucsc.edu/goldenPath/hg19/encodeDCC/wgEncodeBroadHistone/wgEncodeBroadHistoneH1hescH3k4me1StdAlnRep1.bam -O H3k4me1.bam\n",
        "! wget http://hgdownload.cse.ucsc.edu/goldenPath/hg19/encodeDCC/wgEncodeBroadHistone/wgEncodeBroadHistoneH1hescH3k4me2StdAlnRep1.bam -O H3k4me2.bam\n",
        "! wget http://hgdownload.cse.ucsc.edu/goldenPath/hg19/encodeDCC/wgEncodeBroadHistone/wgEncodeBroadHistoneH1hescH3k4me3StdAlnRep1.bam -O H3k4me3.bam\n",
        "! wget http://hgdownload.cse.ucsc.edu/goldenPath/hg19/encodeDCC/wgEncodeBroadHistone/wgEncodeBroadHistoneH1hescH3k9acStdAlnRep1.bam -O H3k9ac.bam\n",
        "! wget http://hgdownload.cse.ucsc.edu/goldenPath/hg19/encodeDCC/wgEncodeBroadHistone/wgEncodeBroadHistoneH1hescH3k27acStdAlnRep1.bam -O H3k27ac.bam\n",
        "! wget http://hgdownload.cse.ucsc.edu/goldenPath/hg19/encodeDCC/wgEncodeBroadHistone/wgEncodeBroadHistoneH1hescH3k36me3StdAlnRep1.bam -O H3k36me3.bam\n",
        "! wget http://hgdownload.cse.ucsc.edu/goldenPath/hg19/encodeDCC/wgEncodeBroadHistone/wgEncodeBroadHistoneH1hescH3k79me2StdAlnRep1.bam -O H3k79me2.bam\n",
        "! wget http://hgdownload.cse.ucsc.edu/goldenPath/hg19/encodeDCC/wgEncodeBroadHistone/wgEncodeBroadHistoneH1hescH4k20me1StdAlnRep1.bam -O H4k20me1.bam\n",
        "! wget http://hgdownload.cse.ucsc.edu/goldenPath/hg19/encodeDCC/wgEncodeBroadHistone/wgEncodeBroadHistoneH1hescH3k27me3StdAlnRep1.bam -O H3k27me3.bam\n"
      ]
    },
    {
      "cell_type": "code",
      "execution_count": null,
      "metadata": {
        "colab": {
          "base_uri": "https://localhost:8080/"
        },
        "id": "Qd4YLnHV_Yma",
        "outputId": "a3000d88-9af4-4cc2-de34-fc3881112858"
      },
      "outputs": [
        {
          "output_type": "stream",
          "name": "stdout",
          "text": [
            "--2023-04-04 19:32:24--  http://hgdownload.cse.ucsc.edu/goldenPath/hg19/encodeDCC/wgEncodeBroadHistone/wgEncodeBroadHistoneH1hescControlStdAlnRep1.bam\n",
            "Resolving hgdownload.cse.ucsc.edu (hgdownload.cse.ucsc.edu)... 128.114.119.163\n",
            "Connecting to hgdownload.cse.ucsc.edu (hgdownload.cse.ucsc.edu)|128.114.119.163|:80... connected.\n",
            "HTTP request sent, awaiting response... 200 OK\n",
            "Length: 522282469 (498M) [application/octet-stream]\n",
            "Saving to: ‘Control.bam’\n",
            "\n",
            "Control.bam         100%[===================>] 498.09M  40.2MB/s    in 13s     \n",
            "\n",
            "2023-04-04 19:32:38 (37.4 MB/s) - ‘Control.bam’ saved [522282469/522282469]\n",
            "\n"
          ]
        }
      ],
      "source": [
        "! wget http://hgdownload.cse.ucsc.edu/goldenPath/hg19/encodeDCC/wgEncodeBroadHistone/wgEncodeBroadHistoneH1hescControlStdAlnRep1.bam -O Control.bam"
      ]
    },
    {
      "cell_type": "code",
      "execution_count": null,
      "metadata": {
        "id": "2cEx_rvRCLbi"
      },
      "outputs": [],
      "source": [
        "import os\n",
        "control = 'Control.bam'\n",
        "with open(f'cellmarkfiletable.txt', 'a') as the_file:\n",
        "  for file in os.listdir():\n",
        "    if file[-3:] == 'bam' and \"Control\" not in file:\n",
        "      the_file.write(f'H1-hESC\\t{file[:-4]}\\t{file}\\t{control}\\n')"
      ]
    },
    {
      "cell_type": "markdown",
      "metadata": {
        "id": "asjMJ26h79SY"
      },
      "source": [
        "* Вручную создаем текстовый файл cellmarkfiletable.txt, в котором указываем название типа клеток, разных гистоновых меток, а также соответствующие .bam файлы для эксперимента и контроля. Один и тот же контрольный файл .bam может быть использован для всех экспериментов.\n",
        "\n",
        "* Более подробно о содержании файла cellmarkfiletable.txt можно посмотреть в руководстве пользователя ChromHMM\n",
        "\n",
        "* Файл cellmarkfiletable.txt добавляем в github репозиторий для отчета"
      ]
    },
    {
      "cell_type": "markdown",
      "metadata": {
        "id": "WeoRL3rp728b"
      },
      "source": [
        "Запускаем ChromHMM с опцией BinarizeBam, чтобы конвертировать профили из ChIP-seq экспериментов (bam-файлы) в табличку из 0 и 1, т.е. чтобы сделать разбивку генома на условные интервалы (бины) длиной 200 п.о.\n",
        "Для 11 меток программа работает около 5 мин\n"
      ]
    },
    {
      "cell_type": "code",
      "execution_count": null,
      "metadata": {
        "colab": {
          "base_uri": "https://localhost:8080/"
        },
        "id": "GcVBvuQZfzb8",
        "outputId": "674e8b28-16b9-490c-c2ec-e95a4f39542c"
      },
      "outputs": [
        {
          "output_type": "stream",
          "name": "stdout",
          "text": [
            "Writing to file binarizedData/H1-hESC_chr1_binary.txt\n",
            "Writing to file binarizedData/H1-hESC_chr2_binary.txt\n",
            "Writing to file binarizedData/H1-hESC_chr3_binary.txt\n",
            "Writing to file binarizedData/H1-hESC_chr4_binary.txt\n",
            "Writing to file binarizedData/H1-hESC_chr5_binary.txt\n",
            "Writing to file binarizedData/H1-hESC_chr6_binary.txt\n",
            "Writing to file binarizedData/H1-hESC_chr7_binary.txt\n",
            "Writing to file binarizedData/H1-hESC_chrX_binary.txt\n",
            "Writing to file binarizedData/H1-hESC_chr8_binary.txt\n",
            "Writing to file binarizedData/H1-hESC_chr9_binary.txt\n",
            "Writing to file binarizedData/H1-hESC_chr10_binary.txt\n",
            "Writing to file binarizedData/H1-hESC_chr11_binary.txt\n",
            "Writing to file binarizedData/H1-hESC_chr12_binary.txt\n",
            "Writing to file binarizedData/H1-hESC_chr13_binary.txt\n",
            "Writing to file binarizedData/H1-hESC_chr14_binary.txt\n",
            "Writing to file binarizedData/H1-hESC_chr15_binary.txt\n",
            "Writing to file binarizedData/H1-hESC_chr16_binary.txt\n",
            "Writing to file binarizedData/H1-hESC_chr17_binary.txt\n",
            "Writing to file binarizedData/H1-hESC_chr18_binary.txt\n",
            "Writing to file binarizedData/H1-hESC_chr20_binary.txt\n",
            "Writing to file binarizedData/H1-hESC_chrY_binary.txt\n",
            "Writing to file binarizedData/H1-hESC_chr19_binary.txt\n",
            "Writing to file binarizedData/H1-hESC_chr22_binary.txt\n",
            "Writing to file binarizedData/H1-hESC_chr21_binary.txt\n",
            "Writing to file binarizedData/H1-hESC_chrM_binary.txt\n"
          ]
        }
      ],
      "source": [
        "!java -mx5000M -jar /content/ChromHMM/ChromHMM.jar BinarizeBam -b 200  /content/ChromHMM/CHROMSIZES/hg19.txt /content/ cellmarkfiletable.txt   binarizedData\n"
      ]
    },
    {
      "cell_type": "code",
      "execution_count": null,
      "metadata": {
        "colab": {
          "base_uri": "https://localhost:8080/"
        },
        "id": "z6zAD5gQFQa_",
        "outputId": "9ef1db68-1e5a-4f5c-9de6-6ec1151d41f7"
      },
      "outputs": [
        {
          "output_type": "stream",
          "name": "stdout",
          "text": [
            "Writing to file /content/data/transitions_15.txt\n",
            "Writing to file /content/data/emissions_15.txt\n",
            "Writing to file /content/data/emissions_15.svg\n",
            "Writing to file /content/data/emissions_15.png\n",
            "Writing to file /content/data/transitions_15.png\n",
            "Writing to file /content/data/transitions_15.svg\n",
            "Writing to file /content/data/model_15.txt\n",
            " Iteration  Estimated Log Likelihood     Change    Total Time (secs)\n",
            "         1              -7780284.903          -                 28.7\n",
            "         2              -6725705.207 1054579.696                 51.7\n",
            "         3              -6539901.680 185803.527                 72.7\n",
            "         4              -6456837.850  83063.830                 92.4\n",
            "         5              -6415124.334  41713.515                113.0\n",
            "         6              -6392945.008  22179.327                133.5\n",
            "         7              -6380014.406  12930.602                153.4\n",
            "         8              -6365838.019  14176.387                174.0\n",
            "         9              -6352685.842  13152.177                193.7\n",
            "        10              -6344893.987   7791.855                214.3\n",
            "        11              -6337500.228   7393.759                241.4\n",
            "        12              -6333662.735   3837.493                263.4\n",
            "        13              -6331614.040   2048.695                284.2\n",
            "        14              -6329961.719   1652.321                306.2\n",
            "        15              -6328284.034   1677.685                328.3\n",
            "        16              -6326294.936   1989.098                349.0\n",
            "        17              -6323652.782   2642.154                370.9\n",
            "        18              -6319280.891   4371.891                396.4\n",
            "        19              -6309886.489   9394.402                419.2\n",
            "        20              -6290429.796  19456.693                442.0\n",
            "        21              -6271312.901  19116.894                463.7\n",
            "        22              -6260045.238  11267.663                490.8\n",
            "        23              -6253726.305   6318.933                514.7\n",
            "        24              -6250161.813   3564.492                537.7\n",
            "        25              -6248026.349   2135.464                560.8\n",
            "        26              -6246660.165   1366.184                582.7\n",
            "        27              -6245728.282    931.883                610.4\n",
            "        28              -6245052.743    675.538                632.7\n",
            "        29              -6244533.878    518.866                655.8\n",
            "        30              -6244113.260    420.617                679.0\n",
            "        31              -6243755.347    357.913                702.1\n",
            "        32              -6243438.378    316.969                723.9\n",
            "        33              -6243149.328    289.051                746.8\n",
            "        34              -6242880.399    268.929                769.7\n",
            "        35              -6242626.744    253.655                792.7\n",
            "        36              -6242384.654    242.091                814.8\n",
            "        37              -6242150.979    233.675                837.5\n",
            "        38              -6241922.875    228.104                860.6\n",
            "        39              -6241697.843    225.032                883.8\n",
            "        40              -6241473.826    224.017                906.9\n",
            "        41              -6241249.265    224.561                928.8\n",
            "        42              -6241023.092    226.174                951.8\n",
            "        43              -6240794.683    228.409                974.8\n",
            "        44              -6240563.763    230.920                997.8\n",
            "        45              -6240330.312    233.450               1019.7\n",
            "        46              -6240094.469    235.844               1042.4\n",
            "        47              -6239856.422    238.047               1065.5\n",
            "        48              -6239616.349    240.073               1088.5\n",
            "        49              -6239374.330    242.019               1113.8\n",
            "        50              -6239130.220    244.110               1136.1\n",
            "        51              -6238883.393    246.828               1158.5\n",
            "        52              -6238632.489    250.903               1181.7\n",
            "        53              -6238376.347    256.142               1205.1\n",
            "        54              -6238116.485    259.862               1228.4\n",
            "        55              -6237856.069    260.416               1250.5\n",
            "        56              -6237595.908    260.161               1273.4\n",
            "        57              -6237334.702    261.205               1296.5\n",
            "        58              -6237071.091    263.612               1319.6\n",
            "        59              -6236804.225    266.865               1342.8\n",
            "        60              -6236533.583    270.642               1364.6\n",
            "        61              -6236258.767    274.816               1387.8\n",
            "        62              -6235979.421    279.346               1410.9\n",
            "        63              -6235695.206    284.214               1434.2\n",
            "        64              -6235405.805    289.401               1456.9\n",
            "        65              -6235110.935    294.870               1479.3\n",
            "        66              -6234810.366    300.569               1502.5\n",
            "        67              -6234503.937    306.428               1525.8\n",
            "        68              -6234191.569    312.368               1549.0\n",
            "        69              -6233873.251    318.318               1571.0\n",
            "        70              -6233549.017    324.234               1594.1\n",
            "        71              -6233218.886    330.131               1617.2\n",
            "        72              -6232882.784    336.102               1640.3\n",
            "        73              -6232540.463    342.321               1663.3\n",
            "        74              -6232191.452    349.010               1685.5\n",
            "        75              -6231835.040    356.413               1708.6\n",
            "        76              -6231470.244    364.796               1731.6\n",
            "        77              -6231095.461    374.783               1754.7\n",
            "        78              -6230707.623    387.838               1777.0\n",
            "        79              -6230299.951    407.672               1799.7\n",
            "        80              -6229857.442    442.509               1823.0\n",
            "        81              -6229348.866    508.576               1846.1\n",
            "        82              -6228712.832    636.034               1869.2\n",
            "        83              -6227838.408    874.424               1891.0\n",
            "        84              -6226564.041   1274.367               1914.1\n",
            "        85              -6224776.478   1787.563               1937.2\n",
            "        86              -6222672.498   2103.980               1960.2\n",
            "        87              -6220773.629   1898.868               1982.1\n",
            "        88              -6219379.167   1394.463               2005.1\n",
            "        89              -6218417.856    961.311               2028.3\n",
            "        90              -6217743.767    674.089               2051.8\n",
            "        91              -6217253.851    489.916               2075.0\n",
            "        92              -6216882.966    370.886               2097.0\n",
            "        93              -6216590.555    292.411               2120.2\n",
            "        94              -6216351.875    238.680               2143.6\n",
            "        95              -6216151.970    199.906               2166.8\n",
            "        96              -6215981.675    170.295               2189.8\n",
            "        97              -6215835.151    146.524               2212.0\n",
            "        98              -6215708.430    126.721               2235.3\n",
            "        99              -6215598.603    109.827               2258.5\n",
            "       100              -6215503.377     95.226               2281.8\n",
            "       101              -6215420.843     82.534               2304.6\n",
            "       102              -6215349.340     71.504               2327.3\n",
            "       103              -6215287.468     61.872               2350.6\n",
            "       104              -6215233.921     53.547               2373.7\n",
            "       105              -6215187.563     46.358               2397.0\n",
            "       106              -6215147.379     40.185               2419.0\n",
            "       107              -6215112.456     34.923               2442.2\n",
            "       108              -6215081.975     30.481               2465.5\n",
            "       109              -6215055.190     26.786               2488.7\n",
            "       110              -6215031.415     23.774               2512.1\n",
            "       111              -6215010.025     21.391               2534.2\n",
            "       112              -6214990.440     19.585               2557.5\n",
            "       113              -6214972.135     18.305               2580.7\n",
            "       114              -6214954.648     17.487               2604.0\n",
            "       115              -6214937.594     17.054               2627.3\n",
            "       116              -6214920.686     16.908               2649.2\n",
            "       117              -6214903.748     16.937               2672.4\n",
            "       118              -6214886.725     17.023               2695.5\n",
            "       119              -6214869.665     17.060               2718.6\n",
            "       120              -6214852.694     16.971               2740.8\n",
            "       121              -6214835.976     16.718               2763.6\n",
            "       122              -6214819.673     16.302               2786.8\n",
            "       123              -6214803.918     15.756               2810.0\n",
            "       124              -6214788.792     15.126               2833.2\n",
            "       125              -6214774.327     14.465               2855.1\n",
            "       126              -6214760.509     13.818               2878.2\n",
            "       127              -6214747.289     13.220               2901.5\n",
            "       128              -6214734.598     12.691               2924.7\n",
            "       129              -6214722.350     12.248               2947.8\n",
            "       130              -6214710.455     11.895               2969.8\n",
            "       131              -6214698.823     11.632               2993.0\n",
            "       132              -6214687.364     11.459               3016.3\n",
            "       133              -6214675.993     11.371               3039.5\n",
            "       134              -6214664.627     11.366               3062.1\n",
            "       135              -6214653.184     11.443               3084.8\n",
            "       136              -6214641.575     11.609               3108.1\n",
            "       137              -6214629.664     11.911               3131.6\n",
            "       138              -6214617.211     12.454               3155.1\n",
            "       139              -6214604.228     12.982               3178.4\n",
            "       140              -6214591.034     13.194               3200.9\n",
            "       141              -6214577.490     13.544               3224.4\n",
            "       142              -6214563.385     14.105               3247.9\n",
            "       143              -6214548.589     14.796               3271.9\n",
            "       144              -6214532.999     15.590               3295.4\n",
            "       145              -6214516.516     16.483               3317.8\n",
            "       146              -6214499.032     17.484               3341.1\n",
            "       147              -6214480.432     18.600               3364.7\n",
            "       148              -6214460.591     19.842               3388.2\n",
            "       149              -6214439.369     21.221               3411.8\n",
            "       150              -6214416.616     22.753               3434.9\n",
            "       151              -6214392.161     24.455               3457.3\n",
            "       152              -6214365.814     26.347               3480.7\n",
            "       153              -6214337.361     28.453               3504.1\n",
            "       154              -6214306.559     30.801               3527.4\n",
            "       155              -6214273.133     33.426               3550.7\n",
            "       156              -6214236.770     36.364               3573.0\n",
            "       157              -6214197.117     39.653               3596.4\n",
            "       158              -6214153.784     43.333               3620.2\n",
            "       159              -6214106.353     47.431               3643.6\n",
            "       160              -6214054.391     51.962               3667.0\n",
            "       161              -6213997.470     56.921               3689.1\n",
            "       162              -6213935.138     62.332               3712.6\n",
            "       163              -6213866.554     68.584               3736.0\n",
            "       164              -6213788.105     78.449               3759.4\n",
            "       165              -6213683.083    105.022               3782.8\n",
            "       166              -6213517.466    165.617               3805.0\n",
            "       167              -6213304.789    212.677               3828.4\n",
            "       168              -6213097.890    206.899               3851.9\n",
            "       169              -6212905.890    192.000               3875.3\n",
            "       170              -6212721.456    184.433               3898.7\n",
            "       171              -6212543.542    177.914               3920.9\n",
            "       172              -6212374.926    168.616               3944.2\n",
            "       173              -6212212.926    161.999               3967.5\n",
            "       174              -6212039.405    173.522               3990.9\n",
            "       175              -6211874.954    164.451               4014.3\n",
            "       176              -6211738.750    136.204               4036.8\n",
            "       177              -6211623.589    115.160               4059.9\n",
            "       178              -6211523.676     99.913               4083.3\n",
            "       179              -6211436.149     87.528               4106.9\n",
            "       180              -6211359.090     77.059               4130.3\n",
            "       181              -6211290.941     68.149               4153.4\n",
            "       182              -6211230.376     60.565               4175.9\n",
            "       183              -6211176.264     54.113               4199.7\n",
            "       184              -6211127.645     48.619               4223.2\n",
            "       185              -6211083.711     43.934               4246.5\n",
            "       186              -6211043.780     39.931               4269.7\n",
            "       187              -6211007.277     36.503               4292.0\n",
            "       188              -6210973.718     33.559               4315.4\n",
            "       189              -6210942.692     31.025               4341.5\n",
            "       190              -6210913.855     28.838               4364.9\n",
            "       191              -6210886.910     26.944               4388.2\n",
            "       192              -6210861.609     25.302               4411.1\n",
            "       193              -6210837.736     23.873               4433.8\n",
            "       194              -6210815.107     22.629               4457.4\n",
            "       195              -6210793.563     21.544               4480.7\n",
            "       196              -6210772.965     20.598               4504.1\n",
            "       197              -6210753.190     19.775               4527.3\n",
            "       198              -6210734.128     19.062               4549.6\n",
            "       199              -6210715.679     18.449               4573.0\n",
            "       200              -6210697.752     17.927               4596.4\n",
            "Writing to file /content/data/H1-hESC_15_segments.bed\n",
            "Writing to file /content/data/H1-hESC_15_dense.bed\n",
            "Writing to file /content/data/H1-hESC_15_expanded.bed\n",
            "Writing to file /content/data/H1-hESC_15_overlap.txt\n",
            "Writing to file /content/data/H1-hESC_15_overlap.png\n",
            "Writing to file /content/data/H1-hESC_15_overlap.svg\n",
            "Writing to file /content/data/H1-hESC_15_RefSeqTSS_neighborhood.txt\n",
            "Writing to file /content/data/H1-hESC_15_RefSeqTSS_neighborhood.png\n",
            "Writing to file /content/data/H1-hESC_15_RefSeqTSS_neighborhood.svg\n",
            "Writing to file /content/data/H1-hESC_15_RefSeqTES_neighborhood.txt\n",
            "Writing to file /content/data/H1-hESC_15_RefSeqTES_neighborhood.png\n",
            "Writing to file /content/data/H1-hESC_15_RefSeqTES_neighborhood.svg\n",
            "Warning could not automatically open in a browser /content/data/webpage_15.html\n"
          ]
        }
      ],
      "source": [
        "!java -mx5000M -jar /content/ChromHMM/ChromHMM.jar LearnModel -b 200 /content/binarizedData/ /content/data 15 hg19"
      ]
    },
    {
      "cell_type": "code",
      "source": [
        "!zip -r \"/content/data.zip\" \"/content/data\""
      ],
      "metadata": {
        "colab": {
          "base_uri": "https://localhost:8080/"
        },
        "id": "JAtV9M7ZFgRn",
        "outputId": "d61361eb-d703-4fb7-e1db-a48eea6fc99a"
      },
      "execution_count": null,
      "outputs": [
        {
          "output_type": "stream",
          "name": "stdout",
          "text": [
            "  adding: content/data/ (stored 0%)\n",
            "  adding: content/data/H1-hESC_15_segments.bed (deflated 80%)\n",
            "  adding: content/data/H1-hESC_15_RefSeqTSS_neighborhood.svg (deflated 73%)\n",
            "  adding: content/data/webpage_15.html (deflated 72%)\n",
            "  adding: content/data/H1-hESC_15_RefSeqTES_neighborhood.svg (deflated 73%)\n",
            "  adding: content/data/emissions_15.svg (deflated 71%)\n",
            "  adding: content/data/model_15.txt (deflated 71%)\n",
            "  adding: content/data/H1-hESC_15_expanded.bed (deflated 69%)\n",
            "  adding: content/data/H1-hESC_15_RefSeqTSS_neighborhood.png (deflated 37%)\n",
            "  adding: content/data/transitions_15.svg (deflated 69%)\n",
            "  adding: content/data/H1-hESC_15_overlap.svg (deflated 70%)\n",
            "  adding: content/data/H1-hESC_15_dense.bed (deflated 84%)\n",
            "  adding: content/data/H1-hESC_15_RefSeqTSS_neighborhood.txt (deflated 52%)\n",
            "  adding: content/data/emissions_15.txt (deflated 50%)\n",
            "  adding: content/data/H1-hESC_15_RefSeqTES_neighborhood.png (deflated 40%)\n",
            "  adding: content/data/H1-hESC_15_RefSeqTES_neighborhood.txt (deflated 56%)\n",
            "  adding: content/data/H1-hESC_15_overlap.png (deflated 22%)\n",
            "  adding: content/data/transitions_15.png (deflated 25%)\n",
            "  adding: content/data/emissions_15.png (deflated 25%)\n",
            "  adding: content/data/transitions_15.txt (deflated 51%)\n",
            "  adding: content/data/H1-hESC_15_overlap.txt (deflated 48%)\n"
          ]
        }
      ]
    },
    {
      "cell_type": "markdown",
      "metadata": {
        "id": "Yo11TtNG8SXU"
      },
      "source": [
        "Запускаем ChromHMM с опцией LearnModel (см. руководство пользователя), которая автоматически определит параметры N разных эпигенетических типов с наиболее выраженными наборами гистоновых меток и присвоит каждому геномному интервалу определенный эпигенетический тип. Количество разных эпигенетических типов (или состояний) выбираете сами (например 10 штук).\n",
        "Не забудьте, что мы работаем с версией референсного генома человека hg19\n",
        "Для 11 меток программа работает около 10 минут\n"
      ]
    },
    {
      "cell_type": "markdown",
      "metadata": {
        "id": "7yuCmmw-gsFC"
      },
      "source": [
        "В результате выполнения команды LearnModel будет создан набор файлов (в том числе HTML страничка) в папке выдачи, которая была указана при запуске. Скачиваем эту папку себе на копьютер и открываем HTML файл.\n",
        "\n",
        "Дальнейшие инстркции -- см. в описании ДЗ"
      ]
    },
    {
      "cell_type": "markdown",
      "source": [
        "## Бонус\n"
      ],
      "metadata": {
        "id": "lnVoEDnBDIRe"
      }
    },
    {
      "cell_type": "code",
      "source": [
        "titles = ['1_Repressed',\n",
        "         '2_Poised_Promoter',\n",
        "         '3_Poised_Promoter',\n",
        "         '4_Active_Promoter',\n",
        "         '5_Active_Promoter',\n",
        "         '6_Weak_enhancer',\n",
        "         '7_Strong_enhancer',\n",
        "         '8_Weak_Promoter',\n",
        "         '9_Weak_Promoter',\n",
        "         '10_Weak_enhancer',\n",
        "         '11_Transcriptional_elogation',\n",
        "         '12_Weak_transcribed',\n",
        "         '13_Weak_enhancer',\n",
        "         '14_Нeterochromatin',\n",
        "         '15_Weak_enhancer']\n",
        "\n",
        "lines = []\n",
        "with open('H1-hESC_15_dense.bed', 'r') as f:\n",
        "    lines = f.readlines()\n",
        "\n",
        "\n",
        "for i in range(1, len(lines)):\n",
        "    line = lines[i].split(sep='\\t')\n",
        "    line[3] = titles[int(line[3])-1]\n",
        "    lines[i] = '\\t'.join(line)\n",
        "\n",
        "with open('H1-hESC_15_dense_new.bed', 'a') as f:\n",
        "    for line in lines:\n",
        "        f.write(line)"
      ],
      "metadata": {
        "id": "5_2uiVwRDKgu"
      },
      "execution_count": 6,
      "outputs": []
    }
  ],
  "metadata": {
    "colab": {
      "provenance": []
    },
    "kernelspec": {
      "display_name": "Python 3",
      "name": "python3"
    },
    "language_info": {
      "name": "python"
    }
  },
  "nbformat": 4,
  "nbformat_minor": 0
}